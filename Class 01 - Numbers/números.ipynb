{
 "cells": [
  {
   "cell_type": "markdown",
   "metadata": {},
   "source": [
    "Inteiros\n",
    "====="
   ]
  },
  {
   "cell_type": "code",
   "execution_count": 1,
   "metadata": {
    "scrolled": true,
    "slideshow": {
     "slide_type": "slide"
    }
   },
   "outputs": [
    {
     "name": "stdout",
     "output_type": "stream",
     "text": [
      "a + b =  444 \ta - b =  -198 \ta * b =  39483 \ta / b =  0.38317757009345793\n"
     ]
    }
   ],
   "source": [
    "# Operações usuais com inteiros.  Observe a declaração das variáveis\n",
    "# sem necessidade de definir o seu tipo (int, float, etc).\n",
    "a = 123\n",
    "b = 321\n",
    "print(\"a + b = \", a + b, \"\\ta - b = \", a - b, \"\\ta * b = \", a * b, \"\\ta / b = \", a / b)"
   ]
  },
  {
   "cell_type": "code",
   "execution_count": 2,
   "metadata": {
    "scrolled": false,
    "slideshow": {
     "slide_type": "slide"
    }
   },
   "outputs": [
    {
     "name": "stdout",
     "output_type": "stream",
     "text": [
      "b ** 20 =  134927554205888789055216493595354228852036094982401\n"
     ]
    }
   ],
   "source": [
    "# Operação de exponenciação\n",
    "print(\"b ** 20 = \",b**20)"
   ]
  },
  {
   "cell_type": "code",
   "execution_count": 3,
   "metadata": {
    "scrolled": false,
    "slideshow": {
     "slide_type": "slide"
    }
   },
   "outputs": [
    {
     "name": "stdout",
     "output_type": "stream",
     "text": [
      "b / a =  2.6097560975609757 \tb // a =  2\n"
     ]
    }
   ],
   "source": [
    "# Existem dois tipos de divisão, a regular e a inteira.  Em Python 2.7 e em C, assim\n",
    "# como em outras linguagens, se a e b são inteiros, a divisão a / b também o é.\n",
    "# Não em Python 3.6, onde o operador // (divisão inteira)  é que tem esse\n",
    "# comportamento\n",
    "print(\"b / a = \", b / a, \"\\tb // a = \", b // a)"
   ]
  },
  {
   "cell_type": "code",
   "execution_count": 4,
   "metadata": {
    "scrolled": false,
    "slideshow": {
     "slide_type": "slide"
    }
   },
   "outputs": [
    {
     "name": "stdout",
     "output_type": "stream",
     "text": [
      "b // a =  2 \tb % a =  75 \tq*a + r == b =  True\n"
     ]
    }
   ],
   "source": [
    "# Divisão inteira, quociente e resto\n",
    "q = b // a\n",
    "r = b % a\n",
    "print(\"b // a = \", q, \"\\tb % a = \", r, \"\\tq*a + r == b = \", q*a + r == b)"
   ]
  },
  {
   "cell_type": "code",
   "execution_count": 5,
   "metadata": {
    "scrolled": false,
    "slideshow": {
     "slide_type": "slide"
    }
   },
   "outputs": [
    {
     "name": "stdout",
     "output_type": "stream",
     "text": [
      "0.5 0.38317757009345793\n"
     ]
    }
   ],
   "source": [
    "# Devido à diferença entre python 2.7 e 3.6 com relação a /, deve-se tomar cuidado.\n",
    "# Assim, mesmo que em Python 3.6 a divisão / retorne um float, e portanto os cuidados\n",
    "# abaixo não sejam necessários, os usamos de toda forma para evitar problemas com\n",
    "# Python 2.7.\n",
    "print(1.0 / 2, float(a)/b)"
   ]
  },
  {
   "cell_type": "code",
   "execution_count": 6,
   "metadata": {
    "scrolled": false,
    "slideshow": {
     "slide_type": "slide"
    }
   },
   "outputs": [
    {
     "name": "stdout",
     "output_type": "stream",
     "text": [
      "b! =  1220136825991110068701238785423046926253574342803192842192413588385845373153881997605496447502203281863013616477148203584163378722078177200480785205159329285477907571939330603772960859086270429174547882424912726344305670173270769461062802310452644218878789465754777149863494367781037644274033827365397471386477878495438489595537537990423241061271326984327745715546309977202781014561081188373709531016356324432987029563896628911658974769572087926928871281780070265174507768410719624390394322536422605234945850129918571501248706961568141625359056693423813008856249246891564126775654481886506593847951775360894005745238940335798476363944905313062323749066445048824665075946735862074637925184200459369692981022263971952597190945217823331756934581508552332820762820023402626907898342451712006207714640979456116127629145951237229913340169552363850942885592018727433795173014586357570828355780158735432768888680120399882384702151467605445407663535984174430480128938313896881639487469658817504506926365338175055478128640000000000000000000000000000000000000000000000000000000000000000000000000000000000000000000000000000000000000000000000000000\n"
     ]
    }
   ],
   "source": [
    "# Inteiros com precisão ilimitada\n",
    "import math\n",
    "b = 500\n",
    "print(\"b! = \", math.factorial(b))"
   ]
  },
  {
   "cell_type": "code",
   "execution_count": 8,
   "metadata": {},
   "outputs": [
    {
     "name": "stdout",
     "output_type": "stream",
     "text": [
      "a | 0x3333 = 0x7B7F\ta & 0x3333 = 0x1220\ta ^ 0x3333 = 0x695F\n",
      "a << 3 = 0x2D360\ta >> 3 = 0xB4D\n"
     ]
    }
   ],
   "source": [
    "# Python também tem as operações de bit.  Observe o uso do método format()\n",
    "# da classe string, algo que veremos em detalhes em uma aula futura.\n",
    "a = 0x5A6C\n",
    "print(\"a | 0x3333 = 0x{:X}\\ta & 0x3333 = 0x{:X}\\ta ^ 0x3333 = 0x{:X}\".format(a | 0x3333, a & 0x3333, a ^ 0x3333))\n",
    "print(\"a << 3 = 0x{:X}\\ta >> 3 = 0x{:X}\".format(a << 3, a >> 3))"
   ]
  },
  {
   "cell_type": "markdown",
   "metadata": {},
   "source": [
    "**Exercícios**"
   ]
  },
  {
   "cell_type": "markdown",
   "metadata": {},
   "source": [
    "Determine quanto é a diferença, módulo 99, de fatorial de 11 e fatorial de 10."
   ]
  },
  {
   "cell_type": "code",
   "execution_count": 13,
   "metadata": {},
   "outputs": [
    {
     "name": "stdout",
     "output_type": "stream",
     "text": [
      "(11! - 10!) mod 99 =  45\n"
     ]
    }
   ],
   "source": [
    "#Resolução de Exercício\n",
    "#Autor: Karl Sousa\n",
    "\n",
    "import math\n",
    "print(\"(11! - 10!) mod 99 = \", (math.factorial(11) - math.factorial(10))%99)"
   ]
  },
  {
   "cell_type": "markdown",
   "metadata": {},
   "source": [
    "Floats\n",
    "====="
   ]
  },
  {
   "cell_type": "code",
   "execution_count": 12,
   "metadata": {},
   "outputs": [
    {
     "name": "stdout",
     "output_type": "stream",
     "text": [
      "round(a) =  4 \tfloor(a) =  4 \tceil(a) =  5 \ttrunc(a) =  4\n",
      "round(b) =  -4 \tfloor(b) =  -5 \tceil(b) =  -4 \ttrunc(b) =  -4\n",
      "round(c) =  2 \tfloor(c) =  2 \tceil(c) =  3 \ttrunc(c) =  2\n",
      "round(d) =  -4 \tfloor(d) =  -4 \tceil(d) =  -3 \ttrunc(d) =  -3\n"
     ]
    }
   ],
   "source": [
    "# Podemos arredondar um número float para um inteiro de 4 formas distintas\n",
    "# math.trunc trunca em direção a zero\n",
    "# math.floor trunca em direção a -infinito\n",
    "# math.ceil trunca em direção a +infinito\n",
    "# round arredonda para o inteiro mais próximo; se na metade, arrendonda para o número par mais próximo\n",
    "import math\n",
    "a = 4.3\n",
    "b = -4.3\n",
    "c = 2.5\n",
    "d = -3.5\n",
    "print(\"round(a) = \", round(a), \"\\tfloor(a) = \", math.floor(a), \"\\tceil(a) = \", math.ceil(a),\n",
    "      \"\\ttrunc(a) = \", math.trunc(a))\n",
    "print(\"round(b) = \", round(b), \"\\tfloor(b) = \", math.floor(b), \"\\tceil(b) = \", math.ceil(b),\n",
    "      \"\\ttrunc(b) = \", math.trunc(b))\n",
    "print(\"round(c) = \", round(c), \"\\tfloor(c) = \", math.floor(c), \"\\tceil(c) = \", math.ceil(c),\n",
    "      \"\\ttrunc(c) = \", math.trunc(c))\n",
    "print(\"round(d) = \", round(d), \"\\tfloor(d) = \", math.floor(d), \"\\tceil(d) = \", math.ceil(d),\n",
    "      \"\\ttrunc(d) = \", math.trunc(d))"
   ]
  },
  {
   "cell_type": "code",
   "execution_count": 20,
   "metadata": {},
   "outputs": [
    {
     "ename": "OverflowError",
     "evalue": "int too large to convert to float",
     "output_type": "error",
     "traceback": [
      "\u001b[1;31m---------------------------------------------------------------------------\u001b[0m",
      "\u001b[1;31mOverflowError\u001b[0m                             Traceback (most recent call last)",
      "\u001b[1;32m<ipython-input-20-e04b7cfd0f46>\u001b[0m in \u001b[0;36m<module>\u001b[1;34m\u001b[0m\n\u001b[0;32m      1\u001b[0m \u001b[1;31m# É interessante ver que, como os inteiros tem precisão ilimitada, nem sempre podemos\u001b[0m\u001b[1;33m\u001b[0m\u001b[1;33m\u001b[0m\u001b[1;33m\u001b[0m\u001b[0m\n\u001b[0;32m      2\u001b[0m \u001b[1;31m# atribuir um inteiro a um float\u001b[0m\u001b[1;33m\u001b[0m\u001b[1;33m\u001b[0m\u001b[1;33m\u001b[0m\u001b[0m\n\u001b[1;32m----> 3\u001b[1;33m \u001b[0mf\u001b[0m \u001b[1;33m=\u001b[0m \u001b[1;36m1.0\u001b[0m\u001b[1;33m*\u001b[0m\u001b[0mmath\u001b[0m\u001b[1;33m.\u001b[0m\u001b[0mfactorial\u001b[0m\u001b[1;33m(\u001b[0m\u001b[1;36m500\u001b[0m\u001b[1;33m)\u001b[0m\u001b[1;33m\u001b[0m\u001b[1;33m\u001b[0m\u001b[0m\n\u001b[0m",
      "\u001b[1;31mOverflowError\u001b[0m: int too large to convert to float"
     ]
    }
   ],
   "source": [
    "# É interessante ver que, como os inteiros tem precisão ilimitada, nem sempre podemos\n",
    "# atribuir um inteiro a um float\n",
    "f = 1.0*math.factorial(500)"
   ]
  },
  {
   "cell_type": "markdown",
   "metadata": {},
   "source": [
    "Booleanos\n",
    "========="
   ]
  },
  {
   "cell_type": "code",
   "execution_count": 21,
   "metadata": {
    "slideshow": {
     "slide_type": "slide"
    }
   },
   "outputs": [
    {
     "name": "stdout",
     "output_type": "stream",
     "text": [
      "True False\n"
     ]
    }
   ],
   "source": [
    "# Tipos booleanos definidos por Python\n",
    "print(True, False)"
   ]
  },
  {
   "cell_type": "code",
   "execution_count": 22,
   "metadata": {
    "slideshow": {
     "slide_type": "slide"
    }
   },
   "outputs": [
    {
     "name": "stdout",
     "output_type": "stream",
     "text": [
      "2 ** 3 < 3 ** 2 =  True \t2 * 2 == 5 =  False\n"
     ]
    }
   ],
   "source": [
    "# Operações lógicas retornam tipos booleanos\n",
    "print(\"2 ** 3 < 3 ** 2 = \", 2 ** 3 < 3 ** 2, \"\\t2 * 2 == 5 = \", 2 * 2 == 5)"
   ]
  },
  {
   "cell_type": "code",
   "execution_count": 23,
   "metadata": {
    "slideshow": {
     "slide_type": "slide"
    }
   },
   "outputs": [
    {
     "name": "stdout",
     "output_type": "stream",
     "text": [
      "False\n",
      "0\n",
      "3\n",
      "2\n"
     ]
    }
   ],
   "source": [
    "# Os operadores lógicos and e or são do tipo curto-circuito e retornam o\n",
    "# último valor avaliado. Observe que os argumentos desses operadores não\n",
    "# necessariamente são apenas True ou False. Um valor numérico igual a 0 é\n",
    "# considerado um valor booleano False, enquanto um valor numérico não-nulo\n",
    "# tem o valor de True.  Strings e outros containers tem o valor False se\n",
    "# forem vazias, e True se tiverem pelo menos um elemento.\n",
    "print(True and True and False and True)\n",
    "print(10 and 5 and 0 and 3)\n",
    "print(1 and 2 and 3)\n",
    "print(1 and 0 or 2)"
   ]
  },
  {
   "cell_type": "code",
   "execution_count": 24,
   "metadata": {},
   "outputs": [
    {
     "name": "stdout",
     "output_type": "stream",
     "text": [
      "None\n"
     ]
    }
   ],
   "source": [
    "# O valor None é um valor especial definido por Python para significar a\n",
    "# ausência de qualquer outro tipo ou valor.  É mais ou menos equivalente do\n",
    "# tipo void do C, exceto que é um valor concreto também. None é considerado\n",
    "# um valor equivalente ao False para operações booleanas.\n",
    "print(None and True)"
   ]
  },
  {
   "cell_type": "markdown",
   "metadata": {},
   "source": [
    "Números Complexos\n",
    "====="
   ]
  },
  {
   "cell_type": "code",
   "execution_count": 25,
   "metadata": {
    "scrolled": false,
    "slideshow": {
     "slide_type": "slide"
    }
   },
   "outputs": [
    {
     "name": "stdout",
     "output_type": "stream",
     "text": [
      "3.0 4.0 5.0 (3-4j)\n"
     ]
    }
   ],
   "source": [
    "# Partes real e imaginária, valor absoluto e conjugado (todos do tipo float)\n",
    "# Observe que uma variável do tipo complexo é um objeto que tem os atributos\n",
    "# real e imag e o método conjugate().  Observe que a função abs() não é um\n",
    "# método do número complexo uma vez que se aplica também a inteiros e floats\n",
    "z = 3 + 4j\n",
    "print(z.real, z.imag, abs(z), z.conjugate())"
   ]
  },
  {
   "cell_type": "code",
   "execution_count": 26,
   "metadata": {
    "scrolled": false,
    "slideshow": {
     "slide_type": "slide"
    }
   },
   "outputs": [
    {
     "name": "stdout",
     "output_type": "stream",
     "text": [
      "z + w =  (7+1j) \tz * w =  (24+7j) \tz / w =  1j\n"
     ]
    }
   ],
   "source": [
    "# Operações numéricas\n",
    "w = 4 - 3j\n",
    "print(\"z + w = \", z+w, \"\\tz * w = \", z*w, \"\\tz / w = \", z/w)"
   ]
  },
  {
   "cell_type": "code",
   "execution_count": 29,
   "metadata": {
    "scrolled": false,
    "slideshow": {
     "slide_type": "slide"
    }
   },
   "outputs": [
    {
     "name": "stdout",
     "output_type": "stream",
     "text": [
      "abs(z) =  5.0\n",
      "phase(z) =  0.9272952180016122\n",
      "polar format =  (5.0, 0.9272952180016122)\n"
     ]
    }
   ],
   "source": [
    "# Fase e forma polar (forma polar não está no formato de número complexo)\n",
    "import cmath\n",
    "print(\"abs(z) = \", abs(z))\n",
    "print(\"phase(z) = \", cmath.phase(z))\n",
    "print(\"polar format = \", cmath.polar(z))"
   ]
  },
  {
   "cell_type": "code",
   "execution_count": 30,
   "metadata": {
    "scrolled": false,
    "slideshow": {
     "slide_type": "slide"
    }
   },
   "outputs": [
    {
     "name": "stdout",
     "output_type": "stream",
     "text": [
      "(1.2246467991473532e-16+2j)\n"
     ]
    }
   ],
   "source": [
    "# Conversão polar -> retangular\n",
    "print(cmath.rect(2, cmath.pi/2))"
   ]
  },
  {
   "cell_type": "code",
   "execution_count": 39,
   "metadata": {
    "scrolled": false,
    "slideshow": {
     "slide_type": "slide"
    }
   },
   "outputs": [
    {
     "name": "stdout",
     "output_type": "stream",
     "text": [
      "1j\n",
      "-1 não tem raiz quadrada real\n"
     ]
    }
   ],
   "source": [
    "# Raiz quadrada de -1 nos complexos e nos reais\n",
    "print(cmath.sqrt(-1))\n",
    "try:\n",
    "    print(math.sqrt(-1))\n",
    "except:\n",
    "    print(\"-1 não tem raiz quadrada real\")"
   ]
  },
  {
   "cell_type": "code",
   "execution_count": 40,
   "metadata": {
    "scrolled": false,
    "slideshow": {
     "slide_type": "slide"
    }
   },
   "outputs": [
    {
     "name": "stdout",
     "output_type": "stream",
     "text": [
      "(0.7071067811865476+0.7071067811865476j)\n"
     ]
    }
   ],
   "source": [
    "# Exponencial.  Observe que o módulo cmath define a constante pi (entre outras)\n",
    "print(cmath.exp(1j*cmath.pi/4))"
   ]
  },
  {
   "cell_type": "markdown",
   "metadata": {},
   "source": [
    "**Exercícios**"
   ]
  },
  {
   "cell_type": "markdown",
   "metadata": {},
   "source": [
    "- Assumindo que $w = 1/2 + 2j/3$ e $z = -5/6+j/5$, calcule $e^{(w^2 + 2w + 2)(z^2 - 2z - 2)}$\n",
    "- Considere um circuito RLC em série onde $R=50\\ \\Omega$, $L=12,5\\ \\mu$H e $C=10$ nF.  O circuito é alimentado por uma senóide de amplitude $4$ V, frequência de $10$ MHz e fase de $-75^\\circ$.  Determine o fasor da voltagem no resistor."
   ]
  },
  {
   "cell_type": "code",
   "execution_count": 44,
   "metadata": {},
   "outputs": [
    {
     "name": "stdout",
     "output_type": "stream",
     "text": [
      "e^((w^2+2w+2)(z^2-2z-2)) =  (1.6538858763514293-10.542399077586953j)\n"
     ]
    }
   ],
   "source": [
    "#Resolução de Exercício\n",
    "#Autor: Karl Sousa\n",
    "\n",
    "w = complex(0.5, 2/3)\n",
    "z = complex(-5/6, 1/5)\n",
    "\n",
    "print(\"e^((w^2+2w+2)(z^2-2z-2)) = \", cmath.exp((w**2+2*w+2)*(z**2-2*z-2)))"
   ]
  },
  {
   "cell_type": "code",
   "execution_count": 64,
   "metadata": {},
   "outputs": [
    {
     "name": "stdout",
     "output_type": "stream",
     "text": [
      "O fasor de voltagem no resistor é, |Vr| =  0.25464738610645987 /_Vr__ =  11.34997655312899\n"
     ]
    }
   ],
   "source": [
    "#Resolução de Exercício\n",
    "#Autor: Karl Sousa\n",
    "\n",
    "f = 10 * 10**6\n",
    "R = 50 \n",
    "L = 12.5 * 10**(-6)\n",
    "C = 10 * 10**(-9)\n",
    "V = cmath.rect(4, -15*cmath.pi/36)\n",
    "\n",
    "#print(\"Alimentação do circuito, V = \", V)\n",
    "\n",
    "Xl = 1/(2*cmath.pi*f*C)\n",
    "Xc = 2*cmath.pi*f*L\n",
    "\n",
    "#print(\"Reatância do indutor, R_l = \", Xl)\n",
    "#print(\"Reatância do capacitor, R_c = \", Xc)\n",
    "\n",
    "#Impedância: Z = R + (Xl - Xc)*j\n",
    "Z = complex(R, Xl-Xc)\n",
    "\n",
    "#print(\"A impedância é, Z = \", Z)\n",
    "\n",
    "#Assim, a corrente no resistor será: I = V/R (V -> tensão da fonte, R -> resistência)\n",
    "I = V/Z\n",
    "\n",
    "#print(\"A corrente do circuito é, I = \", I)\n",
    "\n",
    "Vr = R * I\n",
    "print(\"O fasor de voltagem no resistor é, |Vr| = \", abs(Vr), \"/_Vr__ = \", cmath.phase(Vr)*180/cmath.pi) "
   ]
  }
 ],
 "metadata": {
  "kernelspec": {
   "display_name": "Python 3",
   "language": "python",
   "name": "python3"
  },
  "language_info": {
   "codemirror_mode": {
    "name": "ipython",
    "version": 3
   },
   "file_extension": ".py",
   "mimetype": "text/x-python",
   "name": "python",
   "nbconvert_exporter": "python",
   "pygments_lexer": "ipython3",
   "version": "3.7.3"
  }
 },
 "nbformat": 4,
 "nbformat_minor": 2
}
