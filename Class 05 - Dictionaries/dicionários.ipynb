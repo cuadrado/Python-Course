{
 "cells": [
  {
   "cell_type": "markdown",
   "metadata": {},
   "source": [
    "Dicionários\n",
    "==="
   ]
  },
  {
   "cell_type": "markdown",
   "metadata": {},
   "source": [
    "Dicionários é, juntamente com listas, uma das estruturas de dados mais úteis de Python.  Basicamente um dicionário é um vetor cujos índices podem ser qualquer tipo de dado imutável, e é o equivalente ao que outras linguagens chamam de array asssociativa."
   ]
  },
  {
   "cell_type": "code",
   "execution_count": 1,
   "metadata": {},
   "outputs": [
    {
     "name": "stdout",
     "output_type": "stream",
     "text": [
      "O telefone de Antônio é 3222-2222\n",
      "O telefone de José é None\n",
      "A agenda telefônica contém 4 telefones\n"
     ]
    }
   ],
   "source": [
    "# Observe a sintaxe para definir um dicionário: {índice1: valor1, \n",
    "# índice2: valor2, índice3, valor3}\n",
    "# Referência: file:///usr/share/doc/python3/html/library/stdtypes.html#mapping-types-dict\n",
    "agenda = {\"Antônio\": \"3222-2222\", \"João\": \"3333-3333\", \"Maria\": \"4231-9876\", \"José\": None}\n",
    "print(\"O telefone de {} é {}\".format(\"Antônio\", agenda[\"Antônio\"]))\n",
    "print(\"O telefone de {} é {}\".format(\"José\", agenda[\"José\"]))\n",
    "print(\"A agenda telefônica contém\", len(agenda), \"telefones\")"
   ]
  },
  {
   "cell_type": "code",
   "execution_count": 2,
   "metadata": {},
   "outputs": [
    {
     "name": "stdout",
     "output_type": "stream",
     "text": [
      "{'Nome': 'Antônio', 'Idade': 20, 3.141592653: 'Circunferência de um círculo de raio unitário', (3+4j): 25, ('nonsense', 0, 1.5): [False, 'more nonsense']}\n"
     ]
    }
   ],
   "source": [
    "# Um dicionário pode ser definido também com o construtor dict().\n",
    "# Neste exemplo observe que os tipos de dados tanto dos índices\n",
    "# como dos valores podem ser arbitrários, desde que os índices\n",
    "# sejam imutáveis\n",
    "d = dict([(\"Nome\", \"Antônio\"), \n",
    "          (\"Idade\", 20),\n",
    "          (3.141592653, \"Circunferência de um círculo de raio unitário\"),\n",
    "          (3 + 4j, 25),\n",
    "          ((\"nonsense\", 0, 1.5), [False, \"more nonsense\"])\n",
    "         ])\n",
    "print(d)"
   ]
  },
  {
   "cell_type": "code",
   "execution_count": 3,
   "metadata": {},
   "outputs": [
    {
     "name": "stdout",
     "output_type": "stream",
     "text": [
      "Agenda original:  {'Antônio': '3222-2222', 'João': '3333-3333', 'Maria': '4231-9876', 'José': None}\n",
      "Cópia da agenda:  {'Antônio': '3222-2222', 'João': '3333-3333', 'Maria': '4231-9876', 'José': None}\n"
     ]
    }
   ],
   "source": [
    "# Uma outra forma de gerar um dicionário é a partir de outro\n",
    "# dicionário.  Observe que a ordem de inserção dos elementos\n",
    "# pode não ser preservada\n",
    "agenda = {\"Antônio\": \"3222-2222\", \"João\": \"3333-3333\", \"Maria\": \"4231-9876\", \"José\": None}\n",
    "outra_agenda = agenda.copy()\n",
    "print(\"Agenda original: \", agenda)\n",
    "print(\"Cópia da agenda: \", outra_agenda)"
   ]
  },
  {
   "cell_type": "code",
   "execution_count": 9,
   "metadata": {},
   "outputs": [
    {
     "name": "stdout",
     "output_type": "stream",
     "text": [
      "Original:  {'Lista 1': [1, 2, '1000 e um'], 'Lista 2': [0, 1, 2, 3, 4, 5]}\n",
      "Cópia:     {'Lista 1': [1, 2, '1000 e um'], 'Lista 2': [0, 1, 2, 3, 4, 5]}\n"
     ]
    }
   ],
   "source": [
    "# Observe, entretanto, que a cópia é rasa\n",
    "d1 = {\"Lista 1\": [1, 2, 3], \"Lista 2\": list(range(6))}\n",
    "d2 = d1.copy()\n",
    "\n",
    "d2[\"Lista 1\"][2] = \"1000 e um\"\n",
    "\n",
    "print(\"Original: \", d1)\n",
    "print(\"Cópia:    \", d2)"
   ]
  },
  {
   "cell_type": "code",
   "execution_count": 12,
   "metadata": {},
   "outputs": [
    {
     "name": "stdout",
     "output_type": "stream",
     "text": [
      "Antes:   {'Lista 1': [1, 2, 3], 'Lista 2': [0, 1, 2, 3, 4, 5]}\n",
      "Depois:  {}\n"
     ]
    }
   ],
   "source": [
    "# Podemos usar o método clear() para zerar um dicionário\n",
    "d = {\"Lista 1\": [1, 2, 3], \"Lista 2\": list(range(6))}\n",
    "print(\"Antes:  \", d)\n",
    "d.clear()\n",
    "print(\"Depois: \", d)"
   ]
  },
  {
   "cell_type": "code",
   "execution_count": 19,
   "metadata": {},
   "outputs": [
    {
     "name": "stdout",
     "output_type": "stream",
     "text": [
      "Antes:   {'um': [1], 'dois': 2, 'três': 3}\n",
      "Depois:  {'um': 20, 'dois': 2, 'três': 3, 'dez': 10, 'onze': 11}\n"
     ]
    }
   ],
   "source": [
    "# Ao invés de copiar um dicionário, podemos querer apenas inserir\n",
    "# seus elementos em um outro dicionário.  Fazemos isso através\n",
    "# do método update()\n",
    "completo = {\"um\": [1], \"dois\": 2, \"três\": 3}\n",
    "parcial = {\"dez\": 10, \"onze\": 11, \"um\": 20}\n",
    "\n",
    "print(\"Antes:  \", completo)\n",
    "completo.update(parcial)\n",
    "print(\"Depois: \", completo)"
   ]
  },
  {
   "cell_type": "markdown",
   "metadata": {},
   "source": [
    "### Exercícios"
   ]
  },
  {
   "cell_type": "code",
   "execution_count": 20,
   "metadata": {},
   "outputs": [
    {
     "name": "stdout",
     "output_type": "stream",
     "text": [
      "{'001.001.001-71': ('Astrogildo da Silva', 10), '002.002.002-32': ('Ermengarda Cavalcanti', 20), '003.003.003-01': ('Deuzivaldo Ferreira', 30), '004.004.004-64': ('Finadina de Souza', 40), '005.005.005-25': ('Caio Rolando da Rocha', 50)}\n"
     ]
    }
   ],
   "source": [
    "# Com as listas abaixo, crie um dicionário cujas chaves são os cpfs e os valores, uma tupla\n",
    "# consistindo do nome e idade com o mesmo índice do cpf nas respectivas listas\n",
    "\n",
    "#Resolução de exercício\n",
    "#Autor: Karl Sousa\n",
    "\n",
    "cpfs = [\"001.001.001-71\", \"002.002.002-32\", \"003.003.003-01\", \"004.004.004-64\", \"005.005.005-25\"]\n",
    "nomes = [\"Astrogildo da Silva\", \"Ermengarda Cavalcanti\", \"Deuzivaldo Ferreira\", \n",
    "         \"Finadina de Souza\", \"Caio Rolando da Rocha\"]\n",
    "idades = [10, 20, 30, 40, 50]\n",
    "\n",
    "concursados = {cpfs[i]: (nomes[i], idades[i]) for i in range(0, 5)}\n",
    "\n",
    "print(concursados)"
   ]
  },
  {
   "cell_type": "code",
   "execution_count": 24,
   "metadata": {},
   "outputs": [
    {
     "name": "stdout",
     "output_type": "stream",
     "text": [
      "Parabéns!\n"
     ]
    }
   ],
   "source": [
    "# Escreva um código usando dicionário para converter uma data numérica do tipo \"DD-MM-YYYY\"\n",
    "# para uma data onde o mês consiste das três primeiras letras de seu nome.  Por exemplo,\n",
    "# \"23-03-2018\" -> \"23-mar-2018\"\n",
    "\n",
    "#Resolução de exercício\n",
    "#Autor: Karl Sousa\n",
    "\n",
    "data = \"23-03-2018\"\n",
    "\n",
    "partes = data.split(\"-\")\n",
    "\n",
    "meses = [\"jan\", \"fev\", \"mar\"]\n",
    "\n",
    "dicionario = dict([(\"{:02d}\".format(n+1), mes) for n, mes in enumerate(meses)])\n",
    "\n",
    "partes[1] = dicionario[partes[1]]\n",
    "nova_data = \"-\".join(partes)\n",
    "\n",
    "if nova_data == \"23-mar-2018\":\n",
    "    print(\"Parabéns!\")\n",
    "else:\n",
    "    print(\"Ahhh!  Tente de novo...\")"
   ]
  },
  {
   "cell_type": "markdown",
   "metadata": {},
   "source": [
    "# Dictionary comprehensions"
   ]
  },
  {
   "cell_type": "code",
   "execution_count": 29,
   "metadata": {},
   "outputs": [
    {
     "name": "stdout",
     "output_type": "stream",
     "text": [
      "{(6, 36), (10, 100), (8, 64), (4, 16), (5, 25), (3, 9), (9, 81), (2, 4), (1, 1), (7, 49)}\n"
     ]
    }
   ],
   "source": [
    "# Do mesmo jeito que com listas, Python oferece uma sintaxe, o dictionary comprehension,\n",
    "# para criação de dicionários de uma forma sucinta.\n",
    "quadrados = {(n, n**2) for n in range(1, 11)}\n",
    "print(quadrados)"
   ]
  },
  {
   "cell_type": "markdown",
   "metadata": {},
   "source": [
    "### Exercícios"
   ]
  },
  {
   "cell_type": "markdown",
   "metadata": {},
   "source": [
    "Repita o primeiro exercício acima usando dictionary comprehension."
   ]
  },
  {
   "cell_type": "code",
   "execution_count": 30,
   "metadata": {},
   "outputs": [
    {
     "name": "stdout",
     "output_type": "stream",
     "text": [
      "{'001.001.001-71': ('Astrogildo da Silva', 10), '002.002.002-32': ('Ermengarda Cavalcanti', 20), '003.003.003-01': ('Deuzivaldo Ferreira', 30), '004.004.004-64': ('Finadina de Souza', 40), '005.005.005-25': ('Caio Rolando da Rocha', 50)}\n"
     ]
    }
   ],
   "source": [
    "#Resolução de exercício\n",
    "#Autor: Karl Sousa\n",
    "\n",
    "cpfs = [\"001.001.001-71\", \"002.002.002-32\", \"003.003.003-01\", \"004.004.004-64\", \"005.005.005-25\"]\n",
    "nomes = [\"Astrogildo da Silva\", \"Ermengarda Cavalcanti\", \"Deuzivaldo Ferreira\", \n",
    "         \"Finadina de Souza\", \"Caio Rolando da Rocha\"]\n",
    "idades = [10, 20, 30, 40, 50]\n",
    "\n",
    "concursados = {cpfs[i]: (nomes[i], idades[i]) for i in range(0, 5)}\n",
    "\n",
    "print(concursados)"
   ]
  },
  {
   "cell_type": "markdown",
   "metadata": {},
   "source": [
    "# Acesso ao dicionário"
   ]
  },
  {
   "cell_type": "code",
   "execution_count": 31,
   "metadata": {},
   "outputs": [
    {
     "name": "stdout",
     "output_type": "stream",
     "text": [
      "Índice inexistente: 'CPF'\n"
     ]
    }
   ],
   "source": [
    "# Se tentarmos acessar um índice inexistente, Python nos retorna\n",
    "# uma exceção\n",
    "d = {\"Nome\": \"Astrogildo\", \"Idade\": 21}\n",
    "try:\n",
    "    print(d[\"CPF\"])\n",
    "except KeyError as e:\n",
    "    print(\"Índice inexistente:\", e)"
   ]
  },
  {
   "cell_type": "code",
   "execution_count": 35,
   "metadata": {},
   "outputs": [
    {
     "name": "stdout",
     "output_type": "stream",
     "text": [
      "O CPF é ***\n"
     ]
    }
   ],
   "source": [
    "# Podemos testar a presença de uma determinada chave antes de acessá-la usando\n",
    "# \"in\".  Observe que existe também a forma \"not in\"\n",
    "d = {\"Nome\": \"Astrogildo\", \"Idade\": 21}\n",
    "if \"CPF\" in d:\n",
    "    valor = d[\"CPF\"]\n",
    "else:\n",
    "    valor = \"***\"\n",
    "\n",
    "print(\"O CPF é\", valor)"
   ]
  },
  {
   "cell_type": "code",
   "execution_count": 40,
   "metadata": {},
   "outputs": [
    {
     "name": "stdout",
     "output_type": "stream",
     "text": [
      "O CPF é ***\n"
     ]
    }
   ],
   "source": [
    "# Como vimos acima, obtemos um valor no dicionário através da\n",
    "# indexação por [].  Podemos usar também o método get(). Este\n",
    "# método nunca retorna uma exceção\n",
    "d = {\"Nome\": \"Astrogildo\", \"Idade\": 21}\n",
    "valor = d.get(\"CPF\", \"***\")\n",
    "\n",
    "print(\"O CPF é\", valor)"
   ]
  },
  {
   "cell_type": "code",
   "execution_count": 44,
   "metadata": {},
   "outputs": [
    {
     "name": "stdout",
     "output_type": "stream",
     "text": [
      "Antes:   {'Nome': 'Astrogildo', 'Idade': 21}\n",
      "Depois:  {'Nome': 'Astrogildo', 'Idade': 21, 'CPF': '000.000.000-00'}\n",
      "Valor retornado:  000.000.000-00\n"
     ]
    }
   ],
   "source": [
    "# Existe também o método setdefault() para quando queremos acessar\n",
    "# um valor mas, caso ele não exista, inserir um valor padrão e \n",
    "# retorná-lo\n",
    "d = {\"Nome\": \"Astrogildo\", \"Idade\": 21}\n",
    "print(\"Antes:  \", d)\n",
    "valor = d.setdefault(\"CPF\", \"000.000.000-00\")\n",
    "print(\"Depois: \", d)\n",
    "print(\"Valor retornado: \", valor)"
   ]
  },
  {
   "cell_type": "code",
   "execution_count": 45,
   "metadata": {},
   "outputs": [
    {
     "name": "stdout",
     "output_type": "stream",
     "text": [
      "Antes:   {'Nome': 'Astrogildo', 'Idade': 21}\n",
      "Depois:  {'Nome': 'Astrogildo'}\n"
     ]
    }
   ],
   "source": [
    "# Podemos retirar um elemento do dicionário através da função del\n",
    "d = {\"Nome\": \"Astrogildo\", \"Idade\": 21}\n",
    "print(\"Antes:  \", d)\n",
    "del d[\"Idade\"]\n",
    "print(\"Depois: \", d)"
   ]
  },
  {
   "cell_type": "code",
   "execution_count": 46,
   "metadata": {},
   "outputs": [
    {
     "name": "stdout",
     "output_type": "stream",
     "text": [
      "d[Idade] = 21\n",
      "{'Nome': 'Astrogildo'}\n"
     ]
    }
   ],
   "source": [
    "# Podemos acessar e retirar um elemento ao mesmo tempo através do\n",
    "# método pop()\n",
    "d = {\"Nome\": \"Astrogildo\", \"Idade\": 21}\n",
    "print(\"d[Idade] =\", d.pop(\"Idade\"))\n",
    "print(d)"
   ]
  },
  {
   "cell_type": "markdown",
   "metadata": {},
   "source": [
    "### Exercícios"
   ]
  },
  {
   "cell_type": "code",
   "execution_count": 157,
   "metadata": {},
   "outputs": [
    {
     "name": "stdout",
     "output_type": "stream",
     "text": [
      "Hurray!\n"
     ]
    }
   ],
   "source": [
    "# Dada uma lista de nomes, crie um dicionário cujas chaves são o primeiro nome\n",
    "# de cada nome e os valores são uma lista dos sobrenomes de todos os nomes que\n",
    "# tem o primeiro nome igual a chave\n",
    "\n",
    "#Resolução de exercício\n",
    "#Autor: Karl Sousa\n",
    "\n",
    "nomes = [\"Maria das Dores\", \"Maria Conceição\", \"Maria Gabriela\", \"Maria Maria\", \n",
    "         \"Maria Isabela\", \"Maria Cristina\", \"João da Silva\"]\n",
    "\n",
    "firstName = [nomesSeparados.split(\" \", 1)[0] for nomesSeparados in nomes]\n",
    "lastName = [nomesSeparados.split(\" \", 1)[1] for nomesSeparados in nomes]\n",
    "\n",
    "d = {firstName[i]: [] for i in range(len(nomes))}\n",
    "\n",
    "for i, key in enumerate(firstName):\n",
    "    if lastName[i] not in d[key]:\n",
    "        d[key].append(lastName[i])\n",
    "\n",
    "if d == {\"Maria\": [\"das Dores\", \"Conceição\", \"Gabriela\", \"Maria\", \n",
    "                  \"Isabela\", \"Cristina\"],\n",
    "        \"João\": [\"da Silva\"]}:\n",
    "    print(\"Hurray!\")\n",
    "else:\n",
    "    print(\"Ahhhh!\")"
   ]
  },
  {
   "cell_type": "markdown",
   "metadata": {},
   "source": [
    "# Sequenciamento de dicionários"
   ]
  },
  {
   "cell_type": "code",
   "execution_count": 87,
   "metadata": {},
   "outputs": [
    {
     "name": "stdout",
     "output_type": "stream",
     "text": [
      "Índices: Nome Idade Cidade CPF \n",
      "Índices (novamente): Nome Idade Cidade CPF \n",
      "Valores: Astrogildo 21 Recife 000.000.000-00 \n",
      "Nome: Astrogildo\n",
      "Idade: 21\n",
      "Cidade: Recife\n",
      "CPF: 000.000.000-00\n",
      "\n",
      "Nome: Astrogildo\n",
      "Idade: 21\n",
      "Cidade: Recife\n",
      "CPF: 000.000.000-00\n"
     ]
    }
   ],
   "source": [
    "# Podemos iterar sobre os índices, sobre os valores ou sobre os\n",
    "# pares (índice, valor) de um dicionário\n",
    "d = {\"Nome\": \"Astrogildo\", \"Idade\": 21, \"Cidade\": \"Recife\",\n",
    "     \"CPF\": \"000.000.000-00\"}\n",
    "print(\"Índices:\", end=\" \")\n",
    "for k in d:\n",
    "    print(k, end=\" \")\n",
    "print(\"\\nÍndices (novamente):\", end=\" \")\n",
    "for k in d.keys():   # mesma coisa que acima\n",
    "    print(k, end=\" \")\n",
    "\n",
    "print(\"\\nValores:\", end=\" \")\n",
    "for v in d.values():\n",
    "    print(v, end=\" \")\n",
    "    \n",
    "print()\n",
    "for k, v in d.items():\n",
    "    print(\"{}: {}\".format(k, v))\n",
    "    \n",
    "print()  #Mesma coisa\n",
    "for k, v in d.items():\n",
    "    print(\"{}: {}\".format(k, d[k]))"
   ]
  },
  {
   "cell_type": "code",
   "execution_count": 90,
   "metadata": {},
   "outputs": [
    {
     "name": "stdout",
     "output_type": "stream",
     "text": [
      "[('Nome', 'Astrogildo')]\n"
     ]
    }
   ],
   "source": [
    "lst = [(k, v) for k, v in d.items() if k == \"Nome\"]\n",
    "print(lst)"
   ]
  },
  {
   "cell_type": "code",
   "execution_count": 91,
   "metadata": {},
   "outputs": [
    {
     "name": "stdout",
     "output_type": "stream",
     "text": [
      "CPF: 000.000.000-00\n",
      "Cidade: Recife\n",
      "Idade: 21\n",
      "Nome: Astrogildo\n"
     ]
    }
   ],
   "source": [
    "# Note que o dicionário não preserva a ordem dos elementos.  Você\n",
    "# precisa ordenar explicitamente ou, se quiser a ordem em que\n",
    "# os elementos são inseridos, usar OrderedDict no módulo collections\n",
    "# Referência: file:///usr/share/doc/python3/html/library/collections.html#collections.OrderedDict\n",
    "d = {\"Nome\": \"Astrogildo\", \"Idade\": 21, \"Cidade\": \"Recife\",\n",
    "     \"CPF\": \"000.000.000-00\"}\n",
    "for k in sorted(d.keys()):\n",
    "    print(\"{}: {}\".format(k, d[k]))"
   ]
  },
  {
   "cell_type": "markdown",
   "metadata": {},
   "source": [
    "Conjuntos\n",
    "==="
   ]
  },
  {
   "cell_type": "code",
   "execution_count": 92,
   "metadata": {},
   "outputs": [
    {
     "name": "stdout",
     "output_type": "stream",
     "text": [
      "{'c', 'a', 2, 'b'}\n",
      "{1, 2, 3, 4, 5, 'a'}\n",
      "{'a', 2}\n",
      "{1, 2, 3, 4, 5, 'c', 'b', 'a'}\n",
      "{'c', 'b'}\n",
      "{1, 3, 4, 5}\n",
      "{2, 'c', 10, 11, 'b', 'a'}\n"
     ]
    }
   ],
   "source": [
    "# Python possui um outro tipo de dado, o conjunto, que é parecido com dicionários.\n",
    "# A diferença é que não é necessário atribuir valores para as chaves, nem há\n",
    "# como atribuir valores a elas.  Conjuntos são úteis para manter uma coleção\n",
    "# de itens distintos.\n",
    "s1 = {\"a\", \"b\", \"c\", 2}\n",
    "s2 = set([1, 2, 3, 4, 5, \"a\"])\n",
    "print(s1)\n",
    "print(s2)\n",
    "print(s1 & s2)\n",
    "print(s1 | s2)\n",
    "print(s1 - s2)\n",
    "print(s2 - s1)\n",
    "s1.update([10, 11])\n",
    "print(s1)"
   ]
  }
 ],
 "metadata": {
  "kernelspec": {
   "display_name": "Python 3",
   "language": "python",
   "name": "python3"
  },
  "language_info": {
   "codemirror_mode": {
    "name": "ipython",
    "version": 3
   },
   "file_extension": ".py",
   "mimetype": "text/x-python",
   "name": "python",
   "nbconvert_exporter": "python",
   "pygments_lexer": "ipython3",
   "version": "3.7.3"
  }
 },
 "nbformat": 4,
 "nbformat_minor": 1
}
